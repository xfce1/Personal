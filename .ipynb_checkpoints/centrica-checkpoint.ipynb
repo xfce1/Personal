{
 "cells": [
  {
   "cell_type": "code",
   "execution_count": 1,
   "id": "3831dd62",
   "metadata": {},
   "outputs": [],
   "source": [
    "import pandas as pd\n",
    "import warnings\n",
    "warnings.filterwarnings(\"ignore\")"
   ]
  },
  {
   "cell_type": "code",
   "execution_count": 5,
   "id": "5bb3579f",
   "metadata": {},
   "outputs": [],
   "source": [
    "name = \"LT Gas Data.xlsx\"\n",
    "supply = pd.read_excel(name,sheet_name=0)\n",
    "demand = pd.read_excel(name,sheet_name=1)\n",
    "template = pd.read_excel(name,sheet_name=2)\n",
    "demand.index = demand[\"Product\"]\n",
    "demand.drop([\"Product\"],axis=1,inplace=True)\n",
    "demand = demand.transpose()\n",
    "demand.index = pd.to_datetime(demand.index)\n",
    "demand[\"month\"] = demand.index.month\n",
    "\n",
    "supply[\"Delivery Date\"] = pd.to_datetime(supply[\"Delivery Date\"])\n",
    "supply[\"month\"] = supply[\"Delivery Date\"].dt.month\n",
    "\n",
    "merged = demand.merge(supply, on='month', how='left')\n",
    "mapping = {\n",
    "\"Product A_x\":\"Demand A\",\n",
    "\"Product B_x\":\"Demand B\",\n",
    "\"Product C_x\":\"Demand C\",\n",
    "\"Product D_x\":\"Demand D\",\n",
    "\"Product A_y\":\"Supply A\",\n",
    "\"Product B_y\":\"Supply B\",\n",
    "\"Product C_y\":\"Supply C\",\n",
    "\"Product D_y\":\"Supply D\",\n",
    "\"month\":\"Month\",\n",
    "\"Delivery Date\":\"Delivery Date (Daily)\"}\n",
    "\n",
    "merged.columns = merged.columns.map(mapping)\n",
    "gb = merged.groupby('Month')    \n",
    "lst = [gb.get_group(x) for x in gb.groups]\n",
    "\n",
    "letters = [\"A\",\"B\",\"C\",\"D\"]\n",
    "\n",
    "gb_prod = []\n",
    "\n",
    "for i in lst:\n",
    "\n",
    "    for l in letters:\n",
    "        cols = [i for i in list(mapping.values())[:-2] if l == i[-1]]\n",
    "        total_cols = [\"Month\",\"Delivery Date (Daily)\"] + cols\n",
    "        df = i[total_cols]\n",
    "        df[\"Product\"] = l\n",
    "        df.index = df[\"Delivery Date (Daily)\"]\n",
    "        df.drop([\"Month\",\"Delivery Date (Daily)\"],axis=1,inplace=True)\n",
    "        df.rename({f\"Demand {l}\": \"Demand\", f\"Supply {l}\": \"Supply\"}, axis=1, inplace=True)\n",
    "        gb_prod.append(df)\n",
    "\n",
    "all_df = pd.concat(gb_prod)\n",
    "all_df.to_csv(\"PositionData.csv\")"
   ]
  },
  {
   "cell_type": "code",
   "execution_count": null,
   "id": "83862106",
   "metadata": {},
   "outputs": [],
   "source": []
  },
  {
   "cell_type": "code",
   "execution_count": null,
   "id": "acec5be1",
   "metadata": {},
   "outputs": [],
   "source": []
  },
  {
   "cell_type": "code",
   "execution_count": null,
   "id": "b571bd2d",
   "metadata": {},
   "outputs": [],
   "source": []
  },
  {
   "cell_type": "code",
   "execution_count": null,
   "id": "d7c33971",
   "metadata": {},
   "outputs": [],
   "source": []
  }
 ],
 "metadata": {
  "kernelspec": {
   "display_name": "Python 3 (ipykernel)",
   "language": "python",
   "name": "python3"
  },
  "language_info": {
   "codemirror_mode": {
    "name": "ipython",
    "version": 3
   },
   "file_extension": ".py",
   "mimetype": "text/x-python",
   "name": "python",
   "nbconvert_exporter": "python",
   "pygments_lexer": "ipython3",
   "version": "3.9.13"
  }
 },
 "nbformat": 4,
 "nbformat_minor": 5
}
